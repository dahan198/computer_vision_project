{
 "cells": [
  {
   "cell_type": "code",
   "execution_count": 2,
   "metadata": {
    "collapsed": true
   },
   "outputs": [],
   "source": [
    "from typing import Dict\n",
    "from glob import glob\n",
    "import matplotlib.pyplot as plt\n",
    "import os"
   ]
  },
  {
   "cell_type": "code",
   "execution_count": 3,
   "outputs": [],
   "source": [
    "def read_file(path: str) -> Dict[str, list]:\n",
    "    gestures_lengths = {}\n",
    "    with open(path, 'r') as file:\n",
    "        for line in file:\n",
    "            trimmed_line = line.strip()\n",
    "            start, end, gesture = trimmed_line.split()\n",
    "            if gesture not in gestures_lengths:\n",
    "                gestures_lengths[gesture] = []\n",
    "            start, end = int(start), int(end)\n",
    "            gestures_lengths[gesture].append(end - start + 1)\n",
    "    return gestures_lengths"
   ],
   "metadata": {
    "collapsed": false,
    "pycharm": {
     "name": "#%%\n"
    }
   }
  },
  {
   "cell_type": "code",
   "execution_count": 4,
   "outputs": [
    {
     "data": {
      "text/plain": "{'G0': [525, 96, 239, 63, 252, 9, 70, 302],\n 'G1': [138, 339, 201],\n 'G2': [146, 147, 90],\n 'G3': [90, 75, 51, 90, 66, 168, 84, 54, 66, 92, 54, 40, 48],\n 'G4': [72, 57, 45, 51, 63, 81, 39, 57, 57, 64, 44, 98, 42],\n 'G5': [39, 21, 26]}"
     },
     "execution_count": 4,
     "metadata": {},
     "output_type": "execute_result"
    }
   ],
   "source": [
    "read_file('../APAS/transcriptions_gestures/P016_balloon1.txt')"
   ],
   "metadata": {
    "collapsed": false,
    "pycharm": {
     "name": "#%%\n"
    }
   }
  },
  {
   "cell_type": "code",
   "execution_count": 5,
   "outputs": [],
   "source": [
    "all_files = glob('../APAS/transcriptions_gestures/*.txt')"
   ],
   "metadata": {
    "collapsed": false,
    "pycharm": {
     "name": "#%%\n"
    }
   }
  },
  {
   "cell_type": "code",
   "execution_count": 6,
   "outputs": [],
   "source": [
    "all_gestures_lengths = {}\n",
    "for path in all_files:\n",
    "    gestures_lengths = read_file(path)\n",
    "    for gesture, lengths in gestures_lengths.items():\n",
    "        if gesture not in all_gestures_lengths:\n",
    "            all_gestures_lengths[gesture] = []\n",
    "        all_gestures_lengths[gesture].extend(lengths)"
   ],
   "metadata": {
    "collapsed": false,
    "pycharm": {
     "name": "#%%\n"
    }
   }
  },
  {
   "cell_type": "code",
   "execution_count": 7,
   "outputs": [],
   "source": [
    "gesture_to_description = {\"G0\": \"no gesture\",\n",
    "                          \"G1\": \"needle passing\",\n",
    "                          \"G2\": \"pull the suture\",\n",
    "                          \"G3\": \"instrument tie\",\n",
    "                          \"G4\": \"lay the knot\",\n",
    "                          \"G5\": \"cut the suture\"}\n",
    "\n",
    "gesture_to_color = {\"G0\": \"#00004c\",\n",
    "                    \"G1\": \"#0000db\",\n",
    "                    \"G2\": \"#9999ff\",\n",
    "                    \"G3\": \"#ff9999\",\n",
    "                    \"G4\": \"#e50000\",\n",
    "                    \"G5\": \"#7f0000\"}"
   ],
   "metadata": {
    "collapsed": false,
    "pycharm": {
     "name": "#%%\n"
    }
   }
  },
  {
   "cell_type": "code",
   "execution_count": 8,
   "outputs": [],
   "source": [
    "gestures_average_length = {}\n",
    "for gesture, lengths in all_gestures_lengths.items():\n",
    "    gestures_average_length[gesture_to_description[gesture]] = (sum(lengths) / len(lengths)) / 30"
   ],
   "metadata": {
    "collapsed": false,
    "pycharm": {
     "name": "#%%\n"
    }
   }
  },
  {
   "cell_type": "code",
   "execution_count": 9,
   "outputs": [
    {
     "data": {
      "text/plain": "{'no gesture': 7.451147752990624,\n 'needle passing': 8.880194518125553,\n 'pull the suture': 4.875245755138517,\n 'instrument tie': 2.6621883656509695,\n 'lay the knot': 2.855305466237942,\n 'cut the suture': 1.8446290143964563}"
     },
     "execution_count": 9,
     "metadata": {},
     "output_type": "execute_result"
    }
   ],
   "source": [
    "gestures_average_length"
   ],
   "metadata": {
    "collapsed": false,
    "pycharm": {
     "name": "#%%\n"
    }
   }
  },
  {
   "cell_type": "code",
   "execution_count": 10,
   "outputs": [
    {
     "data": {
      "text/plain": "<Figure size 432x288 with 1 Axes>",
      "image/png": "[encoded data removed]"
     },
     "metadata": {
      "needs_background": "light"
     },
     "output_type": "display_data"
    }
   ],
   "source": [
    "bar_labels = [desc.replace(' ', '\\n') for desc in gestures_average_length.keys()]\n",
    "bar_heights = gestures_average_length.values()\n",
    "bar_colors = gesture_to_color.values()\n",
    "\n",
    "plt.bar(bar_labels, bar_heights, color=bar_colors)\n",
    "plt.xlabel('gesture', size=14, labelpad=10)\n",
    "plt.ylabel('duration\\n(sec)', size=14, labelpad=40, rotation=0, y=0.40)\n",
    "plt.title('Average Duration Of Gestures', size=16, pad=10)\n",
    "plt.show()"
   ],
   "metadata": {
    "collapsed": false,
    "pycharm": {
     "name": "#%%\n"
    }
   }
  },
  {
   "cell_type": "code",
   "execution_count": 15,
   "outputs": [],
   "source": [
    "all_gestures_percentages = {}\n",
    "for path in all_files:\n",
    "    gestures_lengths = read_file(path)\n",
    "    video_length = 0\n",
    "    gestures_total_length = {}\n",
    "    for gesture, lengths in gestures_lengths.items():\n",
    "        total = sum(lengths)\n",
    "        gestures_total_length[gesture] = total\n",
    "        video_length += total\n",
    "\n",
    "    for gesture, lengths in gestures_lengths.items():\n",
    "        if gesture not in all_gestures_percentages:\n",
    "            all_gestures_percentages[gesture] = []\n",
    "        all_gestures_percentages[gesture].append(gestures_total_length[gesture] / video_length)\n"
   ],
   "metadata": {
    "collapsed": false,
    "pycharm": {
     "name": "#%%\n"
    }
   }
  },
  {
   "cell_type": "code",
   "execution_count": 16,
   "outputs": [],
   "source": [
    "all_gestures_average_percentage = {}\n",
    "for gesture, averages in all_gestures_percentages.items():\n",
    "    all_gestures_average_percentage[gesture] = (sum(averages) / len(averages)) * 100"
   ],
   "metadata": {
    "collapsed": false,
    "pycharm": {
     "name": "#%%\n"
    }
   }
  },
  {
   "cell_type": "code",
   "execution_count": 17,
   "outputs": [
    {
     "data": {
      "text/plain": "<Figure size 720x432 with 1 Axes>",
      "image/png": "[encoded data removed]"
     },
     "metadata": {},
     "output_type": "display_data"
    }
   ],
   "source": [
    "pie_values = list(all_gestures_average_percentage.values())\n",
    "pie_labels = [gesture_to_description[desc] for desc in all_gestures_average_percentage.keys()]\n",
    "\n",
    "plt.figure(figsize=(10, 6))\n",
    "plt.title('Average Percentage Of Gestures', size=16, y=0.93)\n",
    "plt.pie(pie_values, autopct='%1.1f%%', colors=['#00004c', '#0000db', '#9999ff', '#ff9999', '#e50000', '#7f0000'],\n",
    "        textprops={'color': \"w\", 'weight': 'bold', 'size': 11})\n",
    "plt.legend(pie_labels, loc='upper right', bbox_to_anchor=(1.3, 0.915))\n",
    "\n",
    "plt.show()"
   ],
   "metadata": {
    "collapsed": false,
    "pycharm": {
     "name": "#%%\n"
    }
   }
  },
  {
   "cell_type": "code",
   "execution_count": 18,
   "outputs": [],
   "source": [
    "all_gestures_average_percentage2 = {}\n",
    "\n",
    "total_videos_length = 0\n",
    "for gesture, lengths in all_gestures_lengths.items():\n",
    "    total_videos_length += sum(lengths)\n",
    "\n",
    "for gesture, lengths in all_gestures_lengths.items():\n",
    "    all_gestures_average_percentage2[gesture] = (sum(lengths) / total_videos_length) * 100"
   ],
   "metadata": {
    "collapsed": false,
    "pycharm": {
     "name": "#%%\n"
    }
   }
  },
  {
   "cell_type": "code",
   "execution_count": 19,
   "outputs": [
    {
     "data": {
      "text/plain": "{'G0': 36.933570086987736,\n 'G1': 16.0954557401009,\n 'G2': 8.742684247975948,\n 'G3': 18.481849242623348,\n 'G4': 17.077032545080417,\n 'G5': 2.669408137231649}"
     },
     "execution_count": 19,
     "metadata": {},
     "output_type": "execute_result"
    }
   ],
   "source": [
    "all_gestures_average_percentage2"
   ],
   "metadata": {
    "collapsed": false,
    "pycharm": {
     "name": "#%%\n"
    }
   }
  },
  {
   "cell_type": "code",
   "execution_count": 64,
   "outputs": [],
   "source": [],
   "metadata": {
    "collapsed": false,
    "pycharm": {
     "name": "#%%\n"
    }
   }
  },
  {
   "cell_type": "code",
   "execution_count": 64,
   "outputs": [],
   "source": [],
   "metadata": {
    "collapsed": false,
    "pycharm": {
     "name": "#%%\n"
    }
   }
  },
  {
   "cell_type": "code",
   "execution_count": 21,
   "outputs": [],
   "source": [
    "videos_lengths = {}\n",
    "for path in all_files:\n",
    "    gestures_lengths = read_file(path)\n",
    "    file_name = os.path.basename(path).split('.')[0]\n",
    "    total_length = 0\n",
    "    for lengths in gestures_lengths.values():\n",
    "        total_length += sum(lengths)\n",
    "    videos_lengths[file_name] = total_length / (30 * 60)"
   ],
   "metadata": {
    "collapsed": false,
    "pycharm": {
     "name": "#%%\n"
    }
   }
  },
  {
   "cell_type": "code",
   "execution_count": 22,
   "outputs": [
    {
     "data": {
      "text/plain": "8.276111111111112"
     },
     "execution_count": 22,
     "metadata": {},
     "output_type": "execute_result"
    }
   ],
   "source": [
    "max(videos_lengths.values())"
   ],
   "metadata": {
    "collapsed": false,
    "pycharm": {
     "name": "#%%\n"
    }
   }
  },
  {
   "cell_type": "code",
   "execution_count": 23,
   "outputs": [
    {
     "data": {
      "text/plain": "1.4983333333333333"
     },
     "execution_count": 23,
     "metadata": {},
     "output_type": "execute_result"
    }
   ],
   "source": [
    "min(videos_lengths.values())"
   ],
   "metadata": {
    "collapsed": false,
    "pycharm": {
     "name": "#%%\n"
    }
   }
  },
  {
   "cell_type": "code",
   "execution_count": 40,
   "outputs": [
    {
     "data": {
      "text/plain": "<Figure size 432x288 with 1 Axes>",
      "image/png": "[encoded data removed]"
     },
     "metadata": {
      "needs_background": "light"
     },
     "output_type": "display_data"
    }
   ],
   "source": [
    "plt.hist(videos_lengths.values(), edgecolor=\"black\")\n",
    "plt.xlabel('length (min)', size=14, labelpad=10)\n",
    "plt.ylabel('number\\nof videos', size=14, labelpad=40, rotation=0, y=0.40)\n",
    "plt.title('Video Length Distribution', size=16, pad=10)\n",
    "plt.show()"
   ],
   "metadata": {
    "collapsed": false,
    "pycharm": {
     "name": "#%%\n"
    }
   }
  },
  {
   "cell_type": "markdown",
   "source": [],
   "metadata": {
    "collapsed": false,
    "pycharm": {
     "name": "#%% md\n"
    }
   }
  },
  {
   "cell_type": "code",
   "execution_count": 43,
   "outputs": [],
   "source": [
    "def get_video_length(vid_path):\n",
    "    with open(vid_path, 'r') as file:\n",
    "        last = file.readlines()[-1]\n",
    "        return int(last.split()[1])"
   ],
   "metadata": {
    "collapsed": false,
    "pycharm": {
     "name": "#%%\n"
    }
   }
  },
  {
   "cell_type": "code",
   "execution_count": null,
   "outputs": [],
   "source": [],
   "metadata": {
    "collapsed": false,
    "pycharm": {
     "name": "#%%\n"
    }
   }
  },
  {
   "cell_type": "code",
   "execution_count": 44,
   "outputs": [
    {
     "name": "stdout",
     "output_type": "stream",
     "text": [
      "../APAS/transcriptions_gestures\\P016_balloon1.txt 4450\n",
      "../APAS/transcriptions_gestures\\P016_balloon2.txt 3910\n",
      "../APAS/transcriptions_gestures\\P016_tissue1.txt 6751\n",
      "../APAS/transcriptions_gestures\\P016_tissue2.txt 5670\n",
      "../APAS/transcriptions_gestures\\P017_balloon1.txt 3951\n",
      "../APAS/transcriptions_gestures\\P017_balloon2.txt 3335\n",
      "../APAS/transcriptions_gestures\\P017_tissue1.txt 4592\n",
      "../APAS/transcriptions_gestures\\P017_tissue2.txt 4529\n",
      "../APAS/transcriptions_gestures\\P018_balloon1.txt 3955\n",
      "../APAS/transcriptions_gestures\\P018_balloon2.txt 3679\n",
      "../APAS/transcriptions_gestures\\P018_tissue1.txt 5476\n",
      "../APAS/transcriptions_gestures\\P018_tissue2.txt 3891\n",
      "../APAS/transcriptions_gestures\\P019_balloon1.txt 4426\n",
      "../APAS/transcriptions_gestures\\P019_balloon2.txt 3721\n",
      "../APAS/transcriptions_gestures\\P019_tissue1.txt 4589\n",
      "../APAS/transcriptions_gestures\\P019_tissue2.txt 4928\n",
      "../APAS/transcriptions_gestures\\P020_balloon1.txt 6981\n",
      "../APAS/transcriptions_gestures\\P020_balloon2.txt 7405\n",
      "../APAS/transcriptions_gestures\\P020_tissue1.txt 10026\n",
      "../APAS/transcriptions_gestures\\P020_tissue2.txt 9770\n",
      "../APAS/transcriptions_gestures\\P021_balloon1.txt 3743\n",
      "../APAS/transcriptions_gestures\\P021_balloon2.txt 3763\n",
      "../APAS/transcriptions_gestures\\P021_tissue1.txt 5690\n",
      "../APAS/transcriptions_gestures\\P021_tissue2.txt 5110\n",
      "../APAS/transcriptions_gestures\\P022_balloon1.txt 7600\n",
      "../APAS/transcriptions_gestures\\P022_balloon2.txt 7703\n",
      "../APAS/transcriptions_gestures\\P022_tissue1.txt 9940\n",
      "../APAS/transcriptions_gestures\\P022_tissue2.txt 9913\n",
      "../APAS/transcriptions_gestures\\P023_balloon1.txt 6166\n",
      "../APAS/transcriptions_gestures\\P023_balloon2.txt 5790\n",
      "../APAS/transcriptions_gestures\\P023_tissue1.txt 9683\n",
      "../APAS/transcriptions_gestures\\P023_tissue2.txt 11730\n",
      "../APAS/transcriptions_gestures\\P024_balloon1.txt 6761\n",
      "../APAS/transcriptions_gestures\\P024_balloon2.txt 6690\n",
      "../APAS/transcriptions_gestures\\P024_tissue1.txt 11071\n",
      "../APAS/transcriptions_gestures\\P024_tissue2.txt 9371\n",
      "../APAS/transcriptions_gestures\\P025_balloon1.txt 5041\n",
      "../APAS/transcriptions_gestures\\P025_balloon2.txt 4348\n",
      "../APAS/transcriptions_gestures\\P025_tissue1.txt 6462\n",
      "../APAS/transcriptions_gestures\\P025_tissue2.txt 4907\n",
      "../APAS/transcriptions_gestures\\P026_balloon1.txt 9763\n",
      "../APAS/transcriptions_gestures\\P026_balloon2.txt 7961\n",
      "../APAS/transcriptions_gestures\\P026_tissue1.txt 14896\n",
      "../APAS/transcriptions_gestures\\P026_tissue2.txt 7844\n",
      "../APAS/transcriptions_gestures\\P027_balloon1.txt 5441\n",
      "../APAS/transcriptions_gestures\\P027_balloon2.txt 4680\n",
      "../APAS/transcriptions_gestures\\P027_tissue1.txt 13171\n",
      "../APAS/transcriptions_gestures\\P027_tissue2.txt 7351\n",
      "../APAS/transcriptions_gestures\\P028_balloon1.txt 6545\n",
      "../APAS/transcriptions_gestures\\P028_balloon2.txt 5336\n",
      "../APAS/transcriptions_gestures\\P028_tissue1.txt 6960\n",
      "../APAS/transcriptions_gestures\\P028_tissue2.txt 6140\n",
      "../APAS/transcriptions_gestures\\P029_balloon1.txt 9180\n",
      "../APAS/transcriptions_gestures\\P029_balloon2.txt 6890\n",
      "../APAS/transcriptions_gestures\\P029_tissue1.txt 10056\n",
      "../APAS/transcriptions_gestures\\P029_tissue2.txt 9109\n",
      "../APAS/transcriptions_gestures\\P030_balloon1.txt 7120\n",
      "../APAS/transcriptions_gestures\\P030_balloon2.txt 6980\n",
      "../APAS/transcriptions_gestures\\P030_tissue1.txt 9224\n",
      "../APAS/transcriptions_gestures\\P030_tissue2.txt 11817\n",
      "../APAS/transcriptions_gestures\\P031_balloon1.txt 5443\n",
      "../APAS/transcriptions_gestures\\P031_balloon2.txt 5210\n",
      "../APAS/transcriptions_gestures\\P031_tissue1.txt 7661\n",
      "../APAS/transcriptions_gestures\\P031_tissue2.txt 6052\n",
      "../APAS/transcriptions_gestures\\P032_balloon1.txt 5199\n",
      "../APAS/transcriptions_gestures\\P032_balloon2.txt 4352\n",
      "../APAS/transcriptions_gestures\\P032_tissue1.txt 6148\n",
      "../APAS/transcriptions_gestures\\P032_tissue2.txt 6914\n",
      "../APAS/transcriptions_gestures\\P033_balloon1.txt 6391\n",
      "../APAS/transcriptions_gestures\\P033_balloon2.txt 6130\n",
      "../APAS/transcriptions_gestures\\P033_tissue1.txt 9163\n",
      "../APAS/transcriptions_gestures\\P033_tissue2.txt 8129\n",
      "../APAS/transcriptions_gestures\\P034_balloon1.txt 4400\n",
      "../APAS/transcriptions_gestures\\P034_balloon2.txt 4082\n",
      "../APAS/transcriptions_gestures\\P034_tissue1.txt 6020\n",
      "../APAS/transcriptions_gestures\\P034_tissue2.txt 5996\n",
      "../APAS/transcriptions_gestures\\P035_balloon1.txt 3603\n",
      "../APAS/transcriptions_gestures\\P035_balloon2.txt 3145\n",
      "../APAS/transcriptions_gestures\\P035_tissue1.txt 4997\n",
      "../APAS/transcriptions_gestures\\P035_tissue2.txt 5225\n",
      "../APAS/transcriptions_gestures\\P036_balloon1.txt 5415\n",
      "../APAS/transcriptions_gestures\\P036_balloon2.txt 4680\n",
      "../APAS/transcriptions_gestures\\P036_tissue1.txt 6891\n",
      "../APAS/transcriptions_gestures\\P036_tissue2.txt 6469\n",
      "../APAS/transcriptions_gestures\\P037_balloon1.txt 4446\n",
      "../APAS/transcriptions_gestures\\P037_balloon2.txt 4003\n",
      "../APAS/transcriptions_gestures\\P037_tissue1.txt 7383\n",
      "../APAS/transcriptions_gestures\\P037_tissue2.txt 5518\n",
      "../APAS/transcriptions_gestures\\P038_balloon1.txt 3963\n",
      "../APAS/transcriptions_gestures\\P038_balloon2.txt 3976\n",
      "../APAS/transcriptions_gestures\\P038_tissue1.txt 5558\n",
      "../APAS/transcriptions_gestures\\P038_tissue2.txt 7417\n",
      "../APAS/transcriptions_gestures\\P039_balloon1.txt 3499\n",
      "../APAS/transcriptions_gestures\\P039_balloon2.txt 3668\n",
      "../APAS/transcriptions_gestures\\P039_tissue1.txt 4554\n",
      "../APAS/transcriptions_gestures\\P039_tissue2.txt 3874\n",
      "../APAS/transcriptions_gestures\\P040_balloon1.txt 2696\n",
      "../APAS/transcriptions_gestures\\P040_balloon2.txt 3110\n",
      "../APAS/transcriptions_gestures\\P040_tissue1.txt 4635\n",
      "../APAS/transcriptions_gestures\\P040_tissue2.txt 3900\n"
     ]
    }
   ],
   "source": [
    "lengths\n",
    "for p in all_files:\n",
    "    l =  get_video_length(p)\n",
    "    print(p,)"
   ],
   "metadata": {
    "collapsed": false,
    "pycharm": {
     "name": "#%%\n"
    }
   }
  },
  {
   "cell_type": "code",
   "execution_count": 51,
   "outputs": [],
   "source": [
    "ls = {g: round(l*30*60) for g, l in videos_lengths.items()}"
   ],
   "metadata": {
    "collapsed": false,
    "pycharm": {
     "name": "#%%\n"
    }
   }
  },
  {
   "cell_type": "code",
   "execution_count": 54,
   "outputs": [
    {
     "data": {
      "text/plain": "[('P040_balloon1', 2697),\n ('P040_balloon2', 3111),\n ('P035_balloon2', 3146),\n ('P017_balloon2', 3336),\n ('P039_balloon1', 3500),\n ('P035_balloon1', 3604),\n ('P039_balloon2', 3669),\n ('P018_balloon2', 3680),\n ('P019_balloon2', 3722),\n ('P021_balloon1', 3744),\n ('P021_balloon2', 3764),\n ('P039_tissue2', 3875),\n ('P018_tissue2', 3892),\n ('P040_tissue2', 3901),\n ('P016_balloon2', 3911),\n ('P017_balloon1', 3952),\n ('P018_balloon1', 3956),\n ('P038_balloon1', 3964),\n ('P038_balloon2', 3977),\n ('P037_balloon2', 4004),\n ('P034_balloon2', 4083),\n ('P025_balloon2', 4349),\n ('P032_balloon2', 4353),\n ('P034_balloon1', 4401),\n ('P019_balloon1', 4427),\n ('P037_balloon1', 4447),\n ('P016_balloon1', 4451),\n ('P017_tissue2', 4530),\n ('P039_tissue1', 4555),\n ('P019_tissue1', 4590),\n ('P017_tissue1', 4593),\n ('P040_tissue1', 4636),\n ('P027_balloon2', 4681),\n ('P036_balloon2', 4681),\n ('P025_tissue2', 4908),\n ('P019_tissue2', 4929),\n ('P035_tissue1', 4998),\n ('P025_balloon1', 5042),\n ('P021_tissue2', 5111),\n ('P032_balloon1', 5200),\n ('P031_balloon2', 5211),\n ('P035_tissue2', 5226),\n ('P028_balloon2', 5337),\n ('P036_balloon1', 5416),\n ('P027_balloon1', 5442),\n ('P031_balloon1', 5444),\n ('P018_tissue1', 5477),\n ('P037_tissue2', 5519),\n ('P038_tissue1', 5559),\n ('P016_tissue2', 5671),\n ('P021_tissue1', 5691),\n ('P023_balloon2', 5791),\n ('P034_tissue2', 5997),\n ('P034_tissue1', 6021),\n ('P031_tissue2', 6053),\n ('P033_balloon2', 6131),\n ('P028_tissue2', 6141),\n ('P032_tissue1', 6149),\n ('P023_balloon1', 6167),\n ('P033_balloon1', 6392),\n ('P025_tissue1', 6463),\n ('P036_tissue2', 6470),\n ('P028_balloon1', 6546),\n ('P024_balloon2', 6691),\n ('P016_tissue1', 6752),\n ('P024_balloon1', 6762),\n ('P029_balloon2', 6891),\n ('P036_tissue1', 6892),\n ('P032_tissue2', 6915),\n ('P028_tissue1', 6961),\n ('P030_balloon2', 6981),\n ('P020_balloon1', 6982),\n ('P030_balloon1', 7121),\n ('P027_tissue2', 7352),\n ('P037_tissue1', 7384),\n ('P020_balloon2', 7406),\n ('P038_tissue2', 7418),\n ('P022_balloon1', 7601),\n ('P031_tissue1', 7662),\n ('P022_balloon2', 7704),\n ('P026_tissue2', 7845),\n ('P026_balloon2', 7962),\n ('P033_tissue2', 8130),\n ('P029_tissue2', 9110),\n ('P033_tissue1', 9164),\n ('P029_balloon1', 9181),\n ('P030_tissue1', 9225),\n ('P024_tissue2', 9372),\n ('P023_tissue1', 9684),\n ('P026_balloon1', 9764),\n ('P020_tissue2', 9771),\n ('P022_tissue2', 9914),\n ('P022_tissue1', 9941),\n ('P020_tissue1', 10027),\n ('P029_tissue1', 10057),\n ('P024_tissue1', 11072),\n ('P023_tissue2', 11731),\n ('P030_tissue2', 11818),\n ('P027_tissue1', 13172),\n ('P026_tissue1', 14897)]"
     },
     "execution_count": 54,
     "metadata": {},
     "output_type": "execute_result"
    }
   ],
   "source": [
    "sorted(ls.items(), key=lambda k: k[1])"
   ],
   "metadata": {
    "collapsed": false,
    "pycharm": {
     "name": "#%%\n"
    }
   }
  }
 ],
 "metadata": {
  "kernelspec": {
   "display_name": "Python 3",
   "language": "python",
   "name": "python3"
  },
  "language_info": {
   "codemirror_mode": {
    "name": "ipython",
    "version": 2
   },
   "file_extension": ".py",
   "mimetype": "text/x-python",
   "name": "python",
   "nbconvert_exporter": "python",
   "pygments_lexer": "ipython2",
   "version": "2.7.6"
  }
 },
 "nbformat": 4,
 "nbformat_minor": 0
}